{
 "cells": [
  {
   "cell_type": "code",
   "execution_count": 1,
   "metadata": {},
   "outputs": [],
   "source": [
    "import torch\n",
    "import numpy as np\n",
    "\n",
    "def generate_data(seq_len: int, num_samples: int):\n",
    "    X = []\n",
    "    y = []\n",
    "    for i in range(num_samples):\n",
    "        start = np.random.rand() * 2 * np.pi\n",
    "        sequence = np.sin(np.linspace(start, start + seq_len * 0.1, seq_len))\n",
    "        X.append(sequence)\n",
    "        y.append(np.sin(start + seq_len * 0.1))\n",
    "    # end for\n",
    "    return np.array(X), np.array(y)\n",
    "# end def\n",
    "\n",
    "seq_len = 20 \n",
    "num_samples = 500 \n",
    "input_size = 1\n",
    "hidden_size = 50\n",
    "output_size = 1\n",
    "num_layers = 2\n",
    "epochs = 200\n",
    "\n",
    "X, y = generate_data(seq_len, num_samples)\n",
    "\n",
    "X_train = torch.tensor(X[:450], dtype=torch.float32).unsqueeze(-1)\n",
    "y_train = torch.tensor(y[:450], dtype=torch.float32).unsqueeze(-1)\n",
    "\n",
    "X_test = torch.tensor(X[450:], dtype=torch.float32).unsqueeze(-1)\n",
    "y_test = torch.tensor(y[450:], dtype=torch.float32).unsqueeze(-1)"
   ]
  },
  {
   "cell_type": "code",
   "execution_count": 2,
   "metadata": {},
   "outputs": [
    {
     "data": {
      "text/plain": [
       "0.0006569924880750477"
      ]
     },
     "execution_count": 2,
     "metadata": {},
     "output_type": "execute_result"
    }
   ],
   "source": [
    "from Models.ModelWrapper import ModelWrapper\n",
    "from torch.optim import RMSprop, AdamW, Adam, NAdam\n",
    "\n",
    "args = {\n",
    "    'hidden_size' : 25,\n",
    "    'num_layers' : 3,\n",
    "    'seq_len' : 20,\n",
    "    'optimazer' : 'rmsprop'\n",
    "}\n",
    "\n",
    "model = ModelWrapper(type = 'lstm', **args)\n",
    "\n",
    "model.fit(X_train, y_train, epochs = 200)\n",
    "model.score(X_test, y_test)"
   ]
  },
  {
   "cell_type": "code",
   "execution_count": 3,
   "metadata": {},
   "outputs": [
    {
     "data": {
      "text/plain": [
       "0.00021163575001992285"
      ]
     },
     "execution_count": 3,
     "metadata": {},
     "output_type": "execute_result"
    }
   ],
   "source": [
    "args = {\n",
    "    'hidden_size' : 25,\n",
    "    'num_layers' : 3,\n",
    "    'seq_len' : 20,\n",
    "    'optimazer' : 'nadam'\n",
    "}\n",
    "\n",
    "model = ModelWrapper(type = 'gru', **args)\n",
    "\n",
    "model.fit(X_train, y_train, epochs = 200)\n",
    "model.score(X_test, y_test)"
   ]
  },
  {
   "cell_type": "code",
   "execution_count": null,
   "metadata": {},
   "outputs": [],
   "source": []
  }
 ],
 "metadata": {
  "kernelspec": {
   "display_name": "USDvenv",
   "language": "python",
   "name": "python3"
  },
  "language_info": {
   "codemirror_mode": {
    "name": "ipython",
    "version": 3
   },
   "file_extension": ".py",
   "mimetype": "text/x-python",
   "name": "python",
   "nbconvert_exporter": "python",
   "pygments_lexer": "ipython3",
   "version": "3.10.12"
  }
 },
 "nbformat": 4,
 "nbformat_minor": 2
}
