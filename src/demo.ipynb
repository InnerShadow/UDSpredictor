{
 "cells": [
  {
   "cell_type": "code",
   "execution_count": 1,
   "metadata": {},
   "outputs": [],
   "source": [
    "import torch\n",
    "import numpy as np\n",
    "\n",
    "def generate_data(seq_len: int, num_samples: int):\n",
    "    X = []\n",
    "    y = []\n",
    "    for i in range(num_samples):\n",
    "        start = np.random.rand() * 2 * np.pi\n",
    "        sequence = np.sin(np.linspace(start, start + seq_len * 0.1, seq_len))\n",
    "        X.append(sequence)\n",
    "        y.append(np.sin(start + seq_len * 0.1))\n",
    "    # end for\n",
    "    return np.array(X), np.array(y)\n",
    "# end def\n",
    "\n",
    "seq_len = 20 \n",
    "num_samples = 500 \n",
    "input_size = 1\n",
    "hidden_size = 50\n",
    "output_size = 1\n",
    "num_layers = 2\n",
    "epochs = 200\n",
    "batch_size = 2\n",
    "\n",
    "X, y = generate_data(seq_len, num_samples)\n",
    "\n",
    "X_train = torch.tensor(X[:450], dtype = torch.float32).unsqueeze(-1)\n",
    "y_train = torch.tensor(y[:450], dtype = torch.float32).unsqueeze(-1)\n",
    "\n",
    "X_test = torch.tensor(X[450:], dtype = torch.float32).unsqueeze(-1)\n",
    "y_test = torch.tensor(y[450:], dtype = torch.float32).unsqueeze(-1)"
   ]
  },
  {
   "cell_type": "code",
   "execution_count": 4,
   "metadata": {},
   "outputs": [
    {
     "data": {
      "text/plain": [
       "0.056913428008556366"
      ]
     },
     "execution_count": 4,
     "metadata": {},
     "output_type": "execute_result"
    }
   ],
   "source": [
    "from Models.ModelWrapper import ModelWrapper\n",
    "\n",
    "args = {\n",
    "    'hidden_size' : 25,\n",
    "    'num_layers' : 3,\n",
    "    'seq_len' : 20,\n",
    "    'optimazer' : 'rmsprop',\n",
    "    'use_batch_norm' : True,\n",
    "    'dropout_rate' : 0.4\n",
    "}\n",
    "\n",
    "model = ModelWrapper(type = 'lstm', **args)\n",
    "\n",
    "model.fit(X = X_train, y = y_train, epochs = epochs, batch_size = batch_size)\n",
    "model.score(X = X_test, y = y_test)"
   ]
  },
  {
   "cell_type": "code",
   "execution_count": 5,
   "metadata": {},
   "outputs": [
    {
     "data": {
      "text/plain": [
       "0.00012377749953884631"
      ]
     },
     "execution_count": 5,
     "metadata": {},
     "output_type": "execute_result"
    }
   ],
   "source": [
    "args = {\n",
    "    'hidden_size' : 25,\n",
    "    'num_layers' : 3,\n",
    "    'seq_len' : 20,\n",
    "    'optimazer' : 'rmsprop',\n",
    "    'use_batch_norm' : False,\n",
    "    'dropout_rate' : 0.1\n",
    "}\n",
    "\n",
    "model = ModelWrapper(type = 'gru', **args)\n",
    "\n",
    "model.fit(X = X_train, y = y_train, epochs = epochs, batch_size = batch_size)\n",
    "model.score(X = X_test, y = y_test)"
   ]
  },
  {
   "cell_type": "code",
   "execution_count": null,
   "metadata": {},
   "outputs": [],
   "source": []
  }
 ],
 "metadata": {
  "kernelspec": {
   "display_name": "USDvenv",
   "language": "python",
   "name": "python3"
  },
  "language_info": {
   "codemirror_mode": {
    "name": "ipython",
    "version": 3
   },
   "file_extension": ".py",
   "mimetype": "text/x-python",
   "name": "python",
   "nbconvert_exporter": "python",
   "pygments_lexer": "ipython3",
   "version": "3.10.12"
  }
 },
 "nbformat": 4,
 "nbformat_minor": 2
}
